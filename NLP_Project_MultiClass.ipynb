{
  "cells": [
    {
      "cell_type": "code",
      "execution_count": null,
      "metadata": {
        "colab": {
          "base_uri": "https://localhost:8080/"
        },
        "id": "mETzeayODCpm",
        "outputId": "f3e5d060-1e96-45cc-bee0-c573cc8ec178"
      },
      "outputs": [
        {
          "output_type": "stream",
          "name": "stdout",
          "text": [
            "Looking in indexes: https://pypi.org/simple, https://us-python.pkg.dev/colab-wheels/public/simple/\n",
            "Collecting tensorflow-text\n",
            "  Downloading tensorflow_text-2.11.0-cp38-cp38-manylinux_2_17_x86_64.manylinux2014_x86_64.whl (5.8 MB)\n",
            "\u001b[K     |████████████████████████████████| 5.8 MB 22.9 MB/s \n",
            "\u001b[?25hCollecting tensorflow<2.12,>=2.11.0\n",
            "  Downloading tensorflow-2.11.0-cp38-cp38-manylinux_2_17_x86_64.manylinux2014_x86_64.whl (588.3 MB)\n",
            "\u001b[K     |████████████████████████████████| 588.3 MB 19 kB/s \n",
            "\u001b[?25hRequirement already satisfied: tensorflow-hub>=0.8.0 in /usr/local/lib/python3.8/dist-packages (from tensorflow-text) (0.12.0)\n",
            "Requirement already satisfied: numpy>=1.20 in /usr/local/lib/python3.8/dist-packages (from tensorflow<2.12,>=2.11.0->tensorflow-text) (1.21.6)\n",
            "Requirement already satisfied: gast<=0.4.0,>=0.2.1 in /usr/local/lib/python3.8/dist-packages (from tensorflow<2.12,>=2.11.0->tensorflow-text) (0.4.0)\n",
            "Collecting keras<2.12,>=2.11.0\n",
            "  Downloading keras-2.11.0-py2.py3-none-any.whl (1.7 MB)\n",
            "\u001b[K     |████████████████████████████████| 1.7 MB 58.3 MB/s \n",
            "\u001b[?25hRequirement already satisfied: wrapt>=1.11.0 in /usr/local/lib/python3.8/dist-packages (from tensorflow<2.12,>=2.11.0->tensorflow-text) (1.14.1)\n",
            "Collecting tensorboard<2.12,>=2.11\n",
            "  Downloading tensorboard-2.11.0-py3-none-any.whl (6.0 MB)\n",
            "\u001b[K     |████████████████████████████████| 6.0 MB 53.7 MB/s \n",
            "\u001b[?25hRequirement already satisfied: grpcio<2.0,>=1.24.3 in /usr/local/lib/python3.8/dist-packages (from tensorflow<2.12,>=2.11.0->tensorflow-text) (1.51.1)\n",
            "Requirement already satisfied: libclang>=13.0.0 in /usr/local/lib/python3.8/dist-packages (from tensorflow<2.12,>=2.11.0->tensorflow-text) (14.0.6)\n",
            "Requirement already satisfied: h5py>=2.9.0 in /usr/local/lib/python3.8/dist-packages (from tensorflow<2.12,>=2.11.0->tensorflow-text) (3.1.0)\n",
            "Requirement already satisfied: protobuf<3.20,>=3.9.2 in /usr/local/lib/python3.8/dist-packages (from tensorflow<2.12,>=2.11.0->tensorflow-text) (3.19.6)\n",
            "Requirement already satisfied: setuptools in /usr/local/lib/python3.8/dist-packages (from tensorflow<2.12,>=2.11.0->tensorflow-text) (57.4.0)\n",
            "Requirement already satisfied: astunparse>=1.6.0 in /usr/local/lib/python3.8/dist-packages (from tensorflow<2.12,>=2.11.0->tensorflow-text) (1.6.3)\n",
            "Collecting tensorflow-estimator<2.12,>=2.11.0\n",
            "  Downloading tensorflow_estimator-2.11.0-py2.py3-none-any.whl (439 kB)\n",
            "\u001b[K     |████████████████████████████████| 439 kB 69.5 MB/s \n",
            "\u001b[?25hRequirement already satisfied: typing-extensions>=3.6.6 in /usr/local/lib/python3.8/dist-packages (from tensorflow<2.12,>=2.11.0->tensorflow-text) (4.4.0)\n",
            "Requirement already satisfied: google-pasta>=0.1.1 in /usr/local/lib/python3.8/dist-packages (from tensorflow<2.12,>=2.11.0->tensorflow-text) (0.2.0)\n",
            "Requirement already satisfied: termcolor>=1.1.0 in /usr/local/lib/python3.8/dist-packages (from tensorflow<2.12,>=2.11.0->tensorflow-text) (2.1.1)\n",
            "Requirement already satisfied: absl-py>=1.0.0 in /usr/local/lib/python3.8/dist-packages (from tensorflow<2.12,>=2.11.0->tensorflow-text) (1.3.0)\n",
            "Requirement already satisfied: six>=1.12.0 in /usr/local/lib/python3.8/dist-packages (from tensorflow<2.12,>=2.11.0->tensorflow-text) (1.15.0)\n",
            "Collecting flatbuffers>=2.0\n",
            "  Downloading flatbuffers-22.12.6-py2.py3-none-any.whl (26 kB)\n",
            "Requirement already satisfied: packaging in /usr/local/lib/python3.8/dist-packages (from tensorflow<2.12,>=2.11.0->tensorflow-text) (21.3)\n",
            "Requirement already satisfied: tensorflow-io-gcs-filesystem>=0.23.1 in /usr/local/lib/python3.8/dist-packages (from tensorflow<2.12,>=2.11.0->tensorflow-text) (0.28.0)\n",
            "Requirement already satisfied: opt-einsum>=2.3.2 in /usr/local/lib/python3.8/dist-packages (from tensorflow<2.12,>=2.11.0->tensorflow-text) (3.3.0)\n",
            "Requirement already satisfied: wheel<1.0,>=0.23.0 in /usr/local/lib/python3.8/dist-packages (from astunparse>=1.6.0->tensorflow<2.12,>=2.11.0->tensorflow-text) (0.38.4)\n",
            "Requirement already satisfied: tensorboard-plugin-wit>=1.6.0 in /usr/local/lib/python3.8/dist-packages (from tensorboard<2.12,>=2.11->tensorflow<2.12,>=2.11.0->tensorflow-text) (1.8.1)\n",
            "Requirement already satisfied: google-auth<3,>=1.6.3 in /usr/local/lib/python3.8/dist-packages (from tensorboard<2.12,>=2.11->tensorflow<2.12,>=2.11.0->tensorflow-text) (2.15.0)\n",
            "Requirement already satisfied: requests<3,>=2.21.0 in /usr/local/lib/python3.8/dist-packages (from tensorboard<2.12,>=2.11->tensorflow<2.12,>=2.11.0->tensorflow-text) (2.23.0)\n",
            "Requirement already satisfied: markdown>=2.6.8 in /usr/local/lib/python3.8/dist-packages (from tensorboard<2.12,>=2.11->tensorflow<2.12,>=2.11.0->tensorflow-text) (3.4.1)\n",
            "Requirement already satisfied: google-auth-oauthlib<0.5,>=0.4.1 in /usr/local/lib/python3.8/dist-packages (from tensorboard<2.12,>=2.11->tensorflow<2.12,>=2.11.0->tensorflow-text) (0.4.6)\n",
            "Requirement already satisfied: tensorboard-data-server<0.7.0,>=0.6.0 in /usr/local/lib/python3.8/dist-packages (from tensorboard<2.12,>=2.11->tensorflow<2.12,>=2.11.0->tensorflow-text) (0.6.1)\n",
            "Requirement already satisfied: werkzeug>=1.0.1 in /usr/local/lib/python3.8/dist-packages (from tensorboard<2.12,>=2.11->tensorflow<2.12,>=2.11.0->tensorflow-text) (1.0.1)\n",
            "Requirement already satisfied: rsa<5,>=3.1.4 in /usr/local/lib/python3.8/dist-packages (from google-auth<3,>=1.6.3->tensorboard<2.12,>=2.11->tensorflow<2.12,>=2.11.0->tensorflow-text) (4.9)\n",
            "Requirement already satisfied: cachetools<6.0,>=2.0.0 in /usr/local/lib/python3.8/dist-packages (from google-auth<3,>=1.6.3->tensorboard<2.12,>=2.11->tensorflow<2.12,>=2.11.0->tensorflow-text) (5.2.0)\n",
            "Requirement already satisfied: pyasn1-modules>=0.2.1 in /usr/local/lib/python3.8/dist-packages (from google-auth<3,>=1.6.3->tensorboard<2.12,>=2.11->tensorflow<2.12,>=2.11.0->tensorflow-text) (0.2.8)\n",
            "Requirement already satisfied: requests-oauthlib>=0.7.0 in /usr/local/lib/python3.8/dist-packages (from google-auth-oauthlib<0.5,>=0.4.1->tensorboard<2.12,>=2.11->tensorflow<2.12,>=2.11.0->tensorflow-text) (1.3.1)\n",
            "Requirement already satisfied: importlib-metadata>=4.4 in /usr/local/lib/python3.8/dist-packages (from markdown>=2.6.8->tensorboard<2.12,>=2.11->tensorflow<2.12,>=2.11.0->tensorflow-text) (5.1.0)\n",
            "Requirement already satisfied: zipp>=0.5 in /usr/local/lib/python3.8/dist-packages (from importlib-metadata>=4.4->markdown>=2.6.8->tensorboard<2.12,>=2.11->tensorflow<2.12,>=2.11.0->tensorflow-text) (3.11.0)\n",
            "Requirement already satisfied: pyasn1<0.5.0,>=0.4.6 in /usr/local/lib/python3.8/dist-packages (from pyasn1-modules>=0.2.1->google-auth<3,>=1.6.3->tensorboard<2.12,>=2.11->tensorflow<2.12,>=2.11.0->tensorflow-text) (0.4.8)\n",
            "Requirement already satisfied: idna<3,>=2.5 in /usr/local/lib/python3.8/dist-packages (from requests<3,>=2.21.0->tensorboard<2.12,>=2.11->tensorflow<2.12,>=2.11.0->tensorflow-text) (2.10)\n",
            "Requirement already satisfied: urllib3!=1.25.0,!=1.25.1,<1.26,>=1.21.1 in /usr/local/lib/python3.8/dist-packages (from requests<3,>=2.21.0->tensorboard<2.12,>=2.11->tensorflow<2.12,>=2.11.0->tensorflow-text) (1.24.3)\n",
            "Requirement already satisfied: chardet<4,>=3.0.2 in /usr/local/lib/python3.8/dist-packages (from requests<3,>=2.21.0->tensorboard<2.12,>=2.11->tensorflow<2.12,>=2.11.0->tensorflow-text) (3.0.4)\n",
            "Requirement already satisfied: certifi>=2017.4.17 in /usr/local/lib/python3.8/dist-packages (from requests<3,>=2.21.0->tensorboard<2.12,>=2.11->tensorflow<2.12,>=2.11.0->tensorflow-text) (2022.12.7)\n",
            "Requirement already satisfied: oauthlib>=3.0.0 in /usr/local/lib/python3.8/dist-packages (from requests-oauthlib>=0.7.0->google-auth-oauthlib<0.5,>=0.4.1->tensorboard<2.12,>=2.11->tensorflow<2.12,>=2.11.0->tensorflow-text) (3.2.2)\n",
            "Requirement already satisfied: pyparsing!=3.0.5,>=2.0.2 in /usr/local/lib/python3.8/dist-packages (from packaging->tensorflow<2.12,>=2.11.0->tensorflow-text) (3.0.9)\n",
            "Installing collected packages: tensorflow-estimator, tensorboard, keras, flatbuffers, tensorflow, tensorflow-text\n",
            "  Attempting uninstall: tensorflow-estimator\n",
            "    Found existing installation: tensorflow-estimator 2.9.0\n",
            "    Uninstalling tensorflow-estimator-2.9.0:\n",
            "      Successfully uninstalled tensorflow-estimator-2.9.0\n",
            "  Attempting uninstall: tensorboard\n",
            "    Found existing installation: tensorboard 2.9.1\n",
            "    Uninstalling tensorboard-2.9.1:\n",
            "      Successfully uninstalled tensorboard-2.9.1\n",
            "  Attempting uninstall: keras\n",
            "    Found existing installation: keras 2.9.0\n",
            "    Uninstalling keras-2.9.0:\n",
            "      Successfully uninstalled keras-2.9.0\n",
            "  Attempting uninstall: flatbuffers\n",
            "    Found existing installation: flatbuffers 1.12\n",
            "    Uninstalling flatbuffers-1.12:\n",
            "      Successfully uninstalled flatbuffers-1.12\n",
            "  Attempting uninstall: tensorflow\n",
            "    Found existing installation: tensorflow 2.9.2\n",
            "    Uninstalling tensorflow-2.9.2:\n",
            "      Successfully uninstalled tensorflow-2.9.2\n",
            "Successfully installed flatbuffers-22.12.6 keras-2.11.0 tensorboard-2.11.0 tensorflow-2.11.0 tensorflow-estimator-2.11.0 tensorflow-text-2.11.0\n"
          ]
        }
      ],
      "source": [
        "!pip install tensorflow-text"
      ]
    },
    {
      "cell_type": "code",
      "execution_count": null,
      "metadata": {
        "id": "pKKKl6Sdrtnk"
      },
      "outputs": [],
      "source": [
        "from google.colab import drive\n",
        "import pandas as pd\n",
        "import tensorflow as tf\n",
        "import tensorflow_hub as hub\n",
        "import tensorflow_text as text\n",
        "import numpy as np"
      ]
    },
    {
      "cell_type": "code",
      "source": [
        "from google.colab import drive\n",
        "drive.mount('/content/drive')"
      ],
      "metadata": {
        "colab": {
          "base_uri": "https://localhost:8080/"
        },
        "id": "nU-X12vK_QTZ",
        "outputId": "e497b03d-c828-4d1c-b7e3-5cab29305022"
      },
      "execution_count": null,
      "outputs": [
        {
          "output_type": "stream",
          "name": "stdout",
          "text": [
            "Mounted at /content/drive\n"
          ]
        }
      ]
    },
    {
      "cell_type": "code",
      "execution_count": null,
      "metadata": {
        "id": "I9XmAiC6smcP"
      },
      "outputs": [],
      "source": [
        "df = pd.read_csv('/content/drive/MyDrive/NLP Project/complaints_clean.csv')"
      ]
    },
    {
      "cell_type": "code",
      "execution_count": null,
      "metadata": {
        "colab": {
          "base_uri": "https://localhost:8080/",
          "height": 206
        },
        "id": "9OUIwvLH3noY",
        "outputId": "f15bc235-1421-4272-c750-3623297054a1"
      },
      "outputs": [
        {
          "output_type": "execute_result",
          "data": {
            "text/plain": [
              "                             complaint_what_happened  \\\n",
              "0  good morning my name is xxxx xxxx and i apprec...   \n",
              "1  i upgraded my xxxx xxxx card in  and was told ...   \n",
              "2  chase card was reported on  however fraudulent...   \n",
              "3  on  while trying to book a xxxx  xxxx  ticket ...   \n",
              "4  my grand son give me check for  i deposit it i...   \n",
              "\n",
              "                        Topic  Topic_ID  \n",
              "0       Bank account services         0  \n",
              "1  Credit card / Prepaid card         1  \n",
              "2  Credit card / Prepaid card         1  \n",
              "3  Credit card / Prepaid card         1  \n",
              "4       Bank account services         0  "
            ],
            "text/html": [
              "\n",
              "  <div id=\"df-1c4b62c5-481f-4f04-87ec-f34e2a69648b\">\n",
              "    <div class=\"colab-df-container\">\n",
              "      <div>\n",
              "<style scoped>\n",
              "    .dataframe tbody tr th:only-of-type {\n",
              "        vertical-align: middle;\n",
              "    }\n",
              "\n",
              "    .dataframe tbody tr th {\n",
              "        vertical-align: top;\n",
              "    }\n",
              "\n",
              "    .dataframe thead th {\n",
              "        text-align: right;\n",
              "    }\n",
              "</style>\n",
              "<table border=\"1\" class=\"dataframe\">\n",
              "  <thead>\n",
              "    <tr style=\"text-align: right;\">\n",
              "      <th></th>\n",
              "      <th>complaint_what_happened</th>\n",
              "      <th>Topic</th>\n",
              "      <th>Topic_ID</th>\n",
              "    </tr>\n",
              "  </thead>\n",
              "  <tbody>\n",
              "    <tr>\n",
              "      <th>0</th>\n",
              "      <td>good morning my name is xxxx xxxx and i apprec...</td>\n",
              "      <td>Bank account services</td>\n",
              "      <td>0</td>\n",
              "    </tr>\n",
              "    <tr>\n",
              "      <th>1</th>\n",
              "      <td>i upgraded my xxxx xxxx card in  and was told ...</td>\n",
              "      <td>Credit card / Prepaid card</td>\n",
              "      <td>1</td>\n",
              "    </tr>\n",
              "    <tr>\n",
              "      <th>2</th>\n",
              "      <td>chase card was reported on  however fraudulent...</td>\n",
              "      <td>Credit card / Prepaid card</td>\n",
              "      <td>1</td>\n",
              "    </tr>\n",
              "    <tr>\n",
              "      <th>3</th>\n",
              "      <td>on  while trying to book a xxxx  xxxx  ticket ...</td>\n",
              "      <td>Credit card / Prepaid card</td>\n",
              "      <td>1</td>\n",
              "    </tr>\n",
              "    <tr>\n",
              "      <th>4</th>\n",
              "      <td>my grand son give me check for  i deposit it i...</td>\n",
              "      <td>Bank account services</td>\n",
              "      <td>0</td>\n",
              "    </tr>\n",
              "  </tbody>\n",
              "</table>\n",
              "</div>\n",
              "      <button class=\"colab-df-convert\" onclick=\"convertToInteractive('df-1c4b62c5-481f-4f04-87ec-f34e2a69648b')\"\n",
              "              title=\"Convert this dataframe to an interactive table.\"\n",
              "              style=\"display:none;\">\n",
              "        \n",
              "  <svg xmlns=\"http://www.w3.org/2000/svg\" height=\"24px\"viewBox=\"0 0 24 24\"\n",
              "       width=\"24px\">\n",
              "    <path d=\"M0 0h24v24H0V0z\" fill=\"none\"/>\n",
              "    <path d=\"M18.56 5.44l.94 2.06.94-2.06 2.06-.94-2.06-.94-.94-2.06-.94 2.06-2.06.94zm-11 1L8.5 8.5l.94-2.06 2.06-.94-2.06-.94L8.5 2.5l-.94 2.06-2.06.94zm10 10l.94 2.06.94-2.06 2.06-.94-2.06-.94-.94-2.06-.94 2.06-2.06.94z\"/><path d=\"M17.41 7.96l-1.37-1.37c-.4-.4-.92-.59-1.43-.59-.52 0-1.04.2-1.43.59L10.3 9.45l-7.72 7.72c-.78.78-.78 2.05 0 2.83L4 21.41c.39.39.9.59 1.41.59.51 0 1.02-.2 1.41-.59l7.78-7.78 2.81-2.81c.8-.78.8-2.07 0-2.86zM5.41 20L4 18.59l7.72-7.72 1.47 1.35L5.41 20z\"/>\n",
              "  </svg>\n",
              "      </button>\n",
              "      \n",
              "  <style>\n",
              "    .colab-df-container {\n",
              "      display:flex;\n",
              "      flex-wrap:wrap;\n",
              "      gap: 12px;\n",
              "    }\n",
              "\n",
              "    .colab-df-convert {\n",
              "      background-color: #E8F0FE;\n",
              "      border: none;\n",
              "      border-radius: 50%;\n",
              "      cursor: pointer;\n",
              "      display: none;\n",
              "      fill: #1967D2;\n",
              "      height: 32px;\n",
              "      padding: 0 0 0 0;\n",
              "      width: 32px;\n",
              "    }\n",
              "\n",
              "    .colab-df-convert:hover {\n",
              "      background-color: #E2EBFA;\n",
              "      box-shadow: 0px 1px 2px rgba(60, 64, 67, 0.3), 0px 1px 3px 1px rgba(60, 64, 67, 0.15);\n",
              "      fill: #174EA6;\n",
              "    }\n",
              "\n",
              "    [theme=dark] .colab-df-convert {\n",
              "      background-color: #3B4455;\n",
              "      fill: #D2E3FC;\n",
              "    }\n",
              "\n",
              "    [theme=dark] .colab-df-convert:hover {\n",
              "      background-color: #434B5C;\n",
              "      box-shadow: 0px 1px 3px 1px rgba(0, 0, 0, 0.15);\n",
              "      filter: drop-shadow(0px 1px 2px rgba(0, 0, 0, 0.3));\n",
              "      fill: #FFFFFF;\n",
              "    }\n",
              "  </style>\n",
              "\n",
              "      <script>\n",
              "        const buttonEl =\n",
              "          document.querySelector('#df-1c4b62c5-481f-4f04-87ec-f34e2a69648b button.colab-df-convert');\n",
              "        buttonEl.style.display =\n",
              "          google.colab.kernel.accessAllowed ? 'block' : 'none';\n",
              "\n",
              "        async function convertToInteractive(key) {\n",
              "          const element = document.querySelector('#df-1c4b62c5-481f-4f04-87ec-f34e2a69648b');\n",
              "          const dataTable =\n",
              "            await google.colab.kernel.invokeFunction('convertToInteractive',\n",
              "                                                     [key], {});\n",
              "          if (!dataTable) return;\n",
              "\n",
              "          const docLinkHtml = 'Like what you see? Visit the ' +\n",
              "            '<a target=\"_blank\" href=https://colab.research.google.com/notebooks/data_table.ipynb>data table notebook</a>'\n",
              "            + ' to learn more about interactive tables.';\n",
              "          element.innerHTML = '';\n",
              "          dataTable['output_type'] = 'display_data';\n",
              "          await google.colab.output.renderOutput(dataTable, element);\n",
              "          const docLink = document.createElement('div');\n",
              "          docLink.innerHTML = docLinkHtml;\n",
              "          element.appendChild(docLink);\n",
              "        }\n",
              "      </script>\n",
              "    </div>\n",
              "  </div>\n",
              "  "
            ]
          },
          "metadata": {},
          "execution_count": 5
        }
      ],
      "source": [
        "df.head()"
      ]
    },
    {
      "cell_type": "code",
      "execution_count": null,
      "metadata": {
        "colab": {
          "base_uri": "https://localhost:8080/"
        },
        "id": "bOcMSQv3_PGi",
        "outputId": "e6dd0e3f-e22a-4092-926c-c718a7dabdce"
      },
      "outputs": [
        {
          "output_type": "execute_result",
          "data": {
            "text/plain": [
              "0    5250\n",
              "1    5010\n",
              "3    4736\n",
              "4    3816\n",
              "2    2260\n",
              "Name: Topic_ID, dtype: int64"
            ]
          },
          "metadata": {},
          "execution_count": 6
        }
      ],
      "source": [
        "df.Topic_ID.value_counts()"
      ]
    },
    {
      "cell_type": "code",
      "execution_count": null,
      "metadata": {
        "colab": {
          "base_uri": "https://localhost:8080/"
        },
        "id": "-XkTi2ZSDcFB",
        "outputId": "05cacd76-4ea2-4f97-f1cd-16fe1c98bd1c"
      },
      "outputs": [
        {
          "output_type": "execute_result",
          "data": {
            "text/plain": [
              "(21072, 3)"
            ]
          },
          "metadata": {},
          "execution_count": 7
        }
      ],
      "source": [
        "df.shape"
      ]
    },
    {
      "cell_type": "code",
      "source": [
        "df.isnull().values.any()"
      ],
      "metadata": {
        "colab": {
          "base_uri": "https://localhost:8080/"
        },
        "id": "ybBysxKeKeLg",
        "outputId": "5a295be2-b480-4334-d1aa-cb637d886f88"
      },
      "execution_count": null,
      "outputs": [
        {
          "output_type": "execute_result",
          "data": {
            "text/plain": [
              "True"
            ]
          },
          "metadata": {},
          "execution_count": 8
        }
      ]
    },
    {
      "cell_type": "code",
      "source": [
        "df.isnull().sum()"
      ],
      "metadata": {
        "colab": {
          "base_uri": "https://localhost:8080/"
        },
        "id": "7mzjxoSKKeN3",
        "outputId": "07cf348f-822e-470a-8b32-585bf8a8dfed"
      },
      "execution_count": null,
      "outputs": [
        {
          "output_type": "execute_result",
          "data": {
            "text/plain": [
              "complaint_what_happened    3\n",
              "Topic                      0\n",
              "Topic_ID                   0\n",
              "dtype: int64"
            ]
          },
          "metadata": {},
          "execution_count": 9
        }
      ]
    },
    {
      "cell_type": "code",
      "source": [
        "df.dropna(inplace=True)"
      ],
      "metadata": {
        "id": "QdyQ1k8jKiW4"
      },
      "execution_count": null,
      "outputs": []
    },
    {
      "cell_type": "code",
      "source": [
        "df.shape"
      ],
      "metadata": {
        "colab": {
          "base_uri": "https://localhost:8080/"
        },
        "id": "QfVag4kVKsN2",
        "outputId": "38158622-754d-4501-c989-d4baa4d095f0"
      },
      "execution_count": null,
      "outputs": [
        {
          "output_type": "execute_result",
          "data": {
            "text/plain": [
              "(21069, 3)"
            ]
          },
          "metadata": {},
          "execution_count": 11
        }
      ]
    },
    {
      "cell_type": "code",
      "execution_count": null,
      "metadata": {
        "colab": {
          "base_uri": "https://localhost:8080/"
        },
        "id": "1v363LtQE9Ey",
        "outputId": "aec44ea6-cade-4a07-ea5f-a2c52cf1164a"
      },
      "outputs": [
        {
          "output_type": "execute_result",
          "data": {
            "text/plain": [
              "complaint_what_happened    0\n",
              "Topic                      0\n",
              "Topic_ID                   0\n",
              "dtype: int64"
            ]
          },
          "metadata": {},
          "execution_count": 12
        }
      ],
      "source": [
        "df.isnull().sum()"
      ]
    },
    {
      "cell_type": "code",
      "source": [
        "X = df['complaint_what_happened']"
      ],
      "metadata": {
        "id": "Uxm8ZCUj0IGx"
      },
      "execution_count": null,
      "outputs": []
    },
    {
      "cell_type": "code",
      "source": [
        "y = df['Topic_ID']"
      ],
      "metadata": {
        "id": "MmpFNYiezfh9"
      },
      "execution_count": null,
      "outputs": []
    },
    {
      "cell_type": "code",
      "source": [
        "print(y[0:9])"
      ],
      "metadata": {
        "colab": {
          "base_uri": "https://localhost:8080/"
        },
        "id": "2hr7eTDQXXAG",
        "outputId": "b1360096-ff08-40ee-bfe9-2c4c92bb0e61"
      },
      "execution_count": null,
      "outputs": [
        {
          "output_type": "stream",
          "name": "stdout",
          "text": [
            "0    0\n",
            "1    1\n",
            "2    1\n",
            "3    1\n",
            "4    0\n",
            "5    1\n",
            "6    0\n",
            "7    2\n",
            "8    3\n",
            "Name: Topic_ID, dtype: int64\n"
          ]
        }
      ]
    },
    {
      "cell_type": "code",
      "source": [
        "print(X[0:9])"
      ],
      "metadata": {
        "colab": {
          "base_uri": "https://localhost:8080/"
        },
        "id": "_vceMXwez0EW",
        "outputId": "f0b4f325-3c32-473a-b59c-41257e9fdc36"
      },
      "execution_count": null,
      "outputs": [
        {
          "output_type": "stream",
          "name": "stdout",
          "text": [
            "0    good morning my name is xxxx xxxx and i apprec...\n",
            "1    i upgraded my xxxx xxxx card in  and was told ...\n",
            "2    chase card was reported on  however fraudulent...\n",
            "3    on  while trying to book a xxxx  xxxx  ticket ...\n",
            "4    my grand son give me check for  i deposit it i...\n",
            "5                        can you please remove inquiry\n",
            "6    with out notice jp morgan chase restricted my ...\n",
            "7    during the summer months i experience a declin...\n",
            "8    on xxxx  i made a  payment to an online retail...\n",
            "Name: complaint_what_happened, dtype: object\n"
          ]
        }
      ]
    },
    {
      "cell_type": "code",
      "source": [
        "from sklearn.model_selection import train_test_split"
      ],
      "metadata": {
        "id": "8oTWIDfG06ES"
      },
      "execution_count": null,
      "outputs": []
    },
    {
      "cell_type": "code",
      "source": [
        "X_train,X_test,y_train,y_test = train_test_split(X,y,test_size = 0.2,random_state=100)"
      ],
      "metadata": {
        "id": "6JcZYPEA06Gu"
      },
      "execution_count": null,
      "outputs": []
    },
    {
      "cell_type": "code",
      "source": [
        "print(y_train[0:10])"
      ],
      "metadata": {
        "colab": {
          "base_uri": "https://localhost:8080/"
        },
        "id": "ZGePbh4AZuxp",
        "outputId": "f7fb8bdb-814b-4fd1-ea57-b9642c656960"
      },
      "execution_count": null,
      "outputs": [
        {
          "output_type": "stream",
          "name": "stdout",
          "text": [
            "18301    1\n",
            "1026     0\n",
            "1416     1\n",
            "18036    1\n",
            "10208    0\n",
            "15886    2\n",
            "14300    1\n",
            "10319    4\n",
            "8897     4\n",
            "9400     0\n",
            "Name: Topic_ID, dtype: int64\n"
          ]
        }
      ]
    },
    {
      "cell_type": "code",
      "source": [
        "X_train.shape"
      ],
      "metadata": {
        "colab": {
          "base_uri": "https://localhost:8080/"
        },
        "id": "P6Pn9YAaAbR0",
        "outputId": "55733f21-b654-403d-8fd3-d2a5ab053532"
      },
      "execution_count": null,
      "outputs": [
        {
          "output_type": "stream",
          "name": "stdout",
          "text": [
            "(16855,)\n"
          ]
        }
      ]
    },
    {
      "cell_type": "code",
      "source": [
        "y_train.shape"
      ],
      "metadata": {
        "colab": {
          "base_uri": "https://localhost:8080/"
        },
        "id": "tOpjPCanAbZj",
        "outputId": "6cb68446-afec-45f2-f418-e14d7570d583"
      },
      "execution_count": null,
      "outputs": [
        {
          "output_type": "execute_result",
          "data": {
            "text/plain": [
              "(16855,)"
            ]
          },
          "metadata": {},
          "execution_count": 23
        }
      ]
    },
    {
      "cell_type": "code",
      "source": [
        "y_test.shape"
      ],
      "metadata": {
        "colab": {
          "base_uri": "https://localhost:8080/"
        },
        "id": "NokLsp08agVf",
        "outputId": "22daf80a-5f5d-4013-9641-bb00fab2159e"
      },
      "execution_count": null,
      "outputs": [
        {
          "output_type": "execute_result",
          "data": {
            "text/plain": [
              "(4214,)"
            ]
          },
          "metadata": {},
          "execution_count": 24
        }
      ]
    },
    {
      "cell_type": "code",
      "source": [
        "X_test.shape"
      ],
      "metadata": {
        "colab": {
          "base_uri": "https://localhost:8080/"
        },
        "id": "5wu6jT23agX_",
        "outputId": "b6b017c0-216f-417e-828a-55fece1f8244"
      },
      "execution_count": null,
      "outputs": [
        {
          "output_type": "execute_result",
          "data": {
            "text/plain": [
              "(4214,)"
            ]
          },
          "metadata": {},
          "execution_count": 25
        }
      ]
    },
    {
      "cell_type": "code",
      "execution_count": null,
      "metadata": {
        "id": "KARWec26L6fh",
        "colab": {
          "base_uri": "https://localhost:8080/"
        },
        "outputId": "dc1d74bd-c8f5-4be8-abac-f0e6938f47a5"
      },
      "outputs": [
        {
          "output_type": "stream",
          "name": "stderr",
          "text": [
            "WARNING:tensorflow:Please fix your imports. Module tensorflow.python.training.tracking.data_structures has been moved to tensorflow.python.trackable.data_structures. The old module will be deleted in version 2.11.\n"
          ]
        }
      ],
      "source": [
        "bert_preprocess = hub.KerasLayer(\"https://tfhub.dev/tensorflow/bert_en_uncased_preprocess/3\")\n",
        "bert_encoder = hub.KerasLayer(\"https://tfhub.dev/tensorflow/bert_en_uncased_L-12_H-768_A-12/4\")"
      ]
    },
    {
      "cell_type": "code",
      "execution_count": null,
      "metadata": {
        "id": "pVdPNznQGCae",
        "colab": {
          "base_uri": "https://localhost:8080/"
        },
        "outputId": "b7102ba1-be28-4c61-b958-7b7bfd68b921"
      },
      "outputs": [
        {
          "output_type": "stream",
          "name": "stderr",
          "text": [
            "WARNING:tensorflow:From /usr/local/lib/python3.8/dist-packages/tensorflow/python/autograph/pyct/static_analysis/liveness.py:83: Analyzer.lamba_check (from tensorflow.python.autograph.pyct.static_analysis.liveness) is deprecated and will be removed after 2023-09-23.\n",
            "Instructions for updating:\n",
            "Lambda fuctions will be no more assumed to be used in the statement where they are used, or at least in the same block. https://github.com/tensorflow/tensorflow/issues/56089\n"
          ]
        }
      ],
      "source": [
        "# Bert layers\n",
        "text_input = tf.keras.layers.Input(shape=(), dtype=tf.string, name='text')\n",
        "preprocessed_text = bert_preprocess(text_input)\n",
        "outputs = bert_encoder(preprocessed_text)\n",
        "\n",
        "# Hidden layer 1\n",
        "hidden1 = tf.keras.layers.Dense(512, activation='relu')(outputs['pooled_output'])\n",
        "# Dropout layer 1\n",
        "dropout1 = tf.keras.layers.Dropout(0.20)(hidden1)\n",
        "# Hidden layer 2\n",
        "hidden2 = tf.keras.layers.Dense(128, activation='relu')(dropout1)\n",
        "# Dropout layer 2\n",
        "dropout2 = tf.keras.layers.Dropout(0.10)(hidden2)\n",
        "# Output layer\n",
        "outputs = tf.keras.layers.Dense(5, activation='softmax')(dropout2)\n",
        "\n",
        "\n",
        "# Use inputs and outputs to construct a final model\n",
        "model = tf.keras.Model(inputs=[text_input], outputs = [outputs])"
      ]
    },
    {
      "cell_type": "code",
      "execution_count": null,
      "metadata": {
        "colab": {
          "base_uri": "https://localhost:8080/"
        },
        "id": "bY3phYGhHzmH",
        "outputId": "0baeba19-76a7-4700-a2e8-e793ed520ea7"
      },
      "outputs": [
        {
          "output_type": "stream",
          "name": "stdout",
          "text": [
            "Model: \"model\"\n",
            "__________________________________________________________________________________________________\n",
            " Layer (type)                   Output Shape         Param #     Connected to                     \n",
            "==================================================================================================\n",
            " text (InputLayer)              [(None,)]            0           []                               \n",
            "                                                                                                  \n",
            " keras_layer (KerasLayer)       {'input_type_ids':   0           ['text[0][0]']                   \n",
            "                                (None, 128),                                                      \n",
            "                                 'input_word_ids':                                                \n",
            "                                (None, 128),                                                      \n",
            "                                 'input_mask': (Non                                               \n",
            "                                e, 128)}                                                          \n",
            "                                                                                                  \n",
            " keras_layer_1 (KerasLayer)     {'sequence_output':  109482241   ['keras_layer[0][0]',            \n",
            "                                 (None, 128, 768),                'keras_layer[0][1]',            \n",
            "                                 'pooled_output': (               'keras_layer[0][2]']            \n",
            "                                None, 768),                                                       \n",
            "                                 'default': (None,                                                \n",
            "                                768),                                                             \n",
            "                                 'encoder_outputs':                                               \n",
            "                                 [(None, 128, 768),                                               \n",
            "                                 (None, 128, 768),                                                \n",
            "                                 (None, 128, 768),                                                \n",
            "                                 (None, 128, 768),                                                \n",
            "                                 (None, 128, 768),                                                \n",
            "                                 (None, 128, 768),                                                \n",
            "                                 (None, 128, 768),                                                \n",
            "                                 (None, 128, 768),                                                \n",
            "                                 (None, 128, 768),                                                \n",
            "                                 (None, 128, 768),                                                \n",
            "                                 (None, 128, 768),                                                \n",
            "                                 (None, 128, 768)]}                                               \n",
            "                                                                                                  \n",
            " dense (Dense)                  (None, 512)          393728      ['keras_layer_1[0][13]']         \n",
            "                                                                                                  \n",
            " dropout (Dropout)              (None, 512)          0           ['dense[0][0]']                  \n",
            "                                                                                                  \n",
            " dense_1 (Dense)                (None, 128)          65664       ['dropout[0][0]']                \n",
            "                                                                                                  \n",
            " dropout_1 (Dropout)            (None, 128)          0           ['dense_1[0][0]']                \n",
            "                                                                                                  \n",
            " dense_2 (Dense)                (None, 5)            645         ['dropout_1[0][0]']              \n",
            "                                                                                                  \n",
            "==================================================================================================\n",
            "Total params: 109,942,278\n",
            "Trainable params: 460,037\n",
            "Non-trainable params: 109,482,241\n",
            "__________________________________________________________________________________________________\n"
          ]
        }
      ],
      "source": [
        "model.summary()"
      ]
    },
    {
      "cell_type": "code",
      "execution_count": null,
      "metadata": {
        "id": "HnkQMa0zH3P_"
      },
      "outputs": [],
      "source": [
        "#Compiling the model\n",
        "\n",
        "model.compile(loss='sparse_categorical_crossentropy', optimizer='adam', metrics=['accuracy'])"
      ]
    },
    {
      "cell_type": "code",
      "execution_count": 31,
      "metadata": {
        "colab": {
          "base_uri": "https://localhost:8080/"
        },
        "id": "aTh5odOrJW7y",
        "outputId": "ee7aed96-99f3-4d26-fb0d-74da8454f4a3"
      },
      "outputs": [
        {
          "output_type": "stream",
          "name": "stdout",
          "text": [
            "Epoch 1/100\n",
            "527/527 [==============================] - 177s 336ms/step - loss: 1.3993 - accuracy: 0.3983\n",
            "Epoch 2/100\n",
            "527/527 [==============================] - 178s 338ms/step - loss: 1.3214 - accuracy: 0.4504\n",
            "Epoch 3/100\n",
            "527/527 [==============================] - 178s 337ms/step - loss: 1.3041 - accuracy: 0.4575\n",
            "Epoch 4/100\n",
            "527/527 [==============================] - 178s 337ms/step - loss: 1.2593 - accuracy: 0.4824\n",
            "Epoch 5/100\n",
            "527/527 [==============================] - 177s 337ms/step - loss: 1.2771 - accuracy: 0.4786\n",
            "Epoch 6/100\n",
            "527/527 [==============================] - 177s 337ms/step - loss: 1.2720 - accuracy: 0.4812\n",
            "Epoch 7/100\n",
            "527/527 [==============================] - 177s 336ms/step - loss: 1.2802 - accuracy: 0.4740\n",
            "Epoch 8/100\n",
            "527/527 [==============================] - 177s 336ms/step - loss: 1.2688 - accuracy: 0.4823\n",
            "Epoch 9/100\n",
            "527/527 [==============================] - 177s 337ms/step - loss: 1.2567 - accuracy: 0.4911\n",
            "Epoch 10/100\n",
            "527/527 [==============================] - 179s 339ms/step - loss: 1.2528 - accuracy: 0.4876\n",
            "Epoch 11/100\n",
            "527/527 [==============================] - 177s 336ms/step - loss: 1.2367 - accuracy: 0.5007\n",
            "Epoch 12/100\n",
            "527/527 [==============================] - 177s 336ms/step - loss: 1.2216 - accuracy: 0.5148\n",
            "Epoch 13/100\n",
            "527/527 [==============================] - 177s 336ms/step - loss: 1.2261 - accuracy: 0.5064\n",
            "Epoch 14/100\n",
            "527/527 [==============================] - 177s 336ms/step - loss: 1.2058 - accuracy: 0.5217\n",
            "Epoch 15/100\n",
            "527/527 [==============================] - 177s 336ms/step - loss: 1.1999 - accuracy: 0.5271\n",
            "Epoch 16/100\n",
            "527/527 [==============================] - 177s 336ms/step - loss: 1.1895 - accuracy: 0.5366\n",
            "Epoch 17/100\n",
            "527/527 [==============================] - 177s 335ms/step - loss: 1.1793 - accuracy: 0.5384\n",
            "Epoch 18/100\n",
            "527/527 [==============================] - 177s 335ms/step - loss: 1.1878 - accuracy: 0.5362\n",
            "Epoch 19/100\n",
            "527/527 [==============================] - 177s 335ms/step - loss: 1.1766 - accuracy: 0.5380\n",
            "Epoch 20/100\n",
            "527/527 [==============================] - 177s 336ms/step - loss: 1.1760 - accuracy: 0.5394\n",
            "Epoch 21/100\n",
            "527/527 [==============================] - 177s 337ms/step - loss: 1.1719 - accuracy: 0.5433\n",
            "Epoch 22/100\n",
            "527/527 [==============================] - 177s 336ms/step - loss: 1.1623 - accuracy: 0.5451\n",
            "Epoch 23/100\n",
            "527/527 [==============================] - 178s 337ms/step - loss: 1.1504 - accuracy: 0.5543\n",
            "Epoch 24/100\n",
            "527/527 [==============================] - 177s 336ms/step - loss: 1.1473 - accuracy: 0.5550\n",
            "Epoch 25/100\n",
            "527/527 [==============================] - 177s 336ms/step - loss: 1.1802 - accuracy: 0.5419\n",
            "Epoch 26/100\n",
            "527/527 [==============================] - 177s 336ms/step - loss: 1.1785 - accuracy: 0.5442\n",
            "Epoch 27/100\n",
            "527/527 [==============================] - 176s 334ms/step - loss: 1.1361 - accuracy: 0.5597\n",
            "Epoch 28/100\n",
            "527/527 [==============================] - 177s 336ms/step - loss: 1.1397 - accuracy: 0.5579\n",
            "Epoch 29/100\n",
            "527/527 [==============================] - 177s 336ms/step - loss: 1.1349 - accuracy: 0.5646\n",
            "Epoch 30/100\n",
            "527/527 [==============================] - 177s 335ms/step - loss: 1.1332 - accuracy: 0.5607\n",
            "Epoch 31/100\n",
            "527/527 [==============================] - 177s 335ms/step - loss: 1.1414 - accuracy: 0.5585\n",
            "Epoch 32/100\n",
            "527/527 [==============================] - 176s 334ms/step - loss: 1.1932 - accuracy: 0.5338\n",
            "Epoch 33/100\n",
            "527/527 [==============================] - 177s 336ms/step - loss: 1.1821 - accuracy: 0.5420\n",
            "Epoch 34/100\n",
            "527/527 [==============================] - 177s 335ms/step - loss: 1.1717 - accuracy: 0.5435\n",
            "Epoch 35/100\n",
            "527/527 [==============================] - 177s 336ms/step - loss: 1.1734 - accuracy: 0.5373\n",
            "Epoch 36/100\n",
            "527/527 [==============================] - 177s 335ms/step - loss: 1.1533 - accuracy: 0.5485\n",
            "Epoch 37/100\n",
            "527/527 [==============================] - 176s 334ms/step - loss: 1.1642 - accuracy: 0.5365\n",
            "Epoch 38/100\n",
            "527/527 [==============================] - 177s 335ms/step - loss: 1.1606 - accuracy: 0.5384\n",
            "Epoch 39/100\n",
            "527/527 [==============================] - 177s 335ms/step - loss: 1.1463 - accuracy: 0.5476\n",
            "Epoch 40/100\n",
            "527/527 [==============================] - 176s 334ms/step - loss: 1.1405 - accuracy: 0.5500\n",
            "Epoch 41/100\n",
            "527/527 [==============================] - 176s 334ms/step - loss: 1.1384 - accuracy: 0.5551\n",
            "Epoch 42/100\n",
            "527/527 [==============================] - 177s 335ms/step - loss: 1.1408 - accuracy: 0.5498\n",
            "Epoch 43/100\n",
            "527/527 [==============================] - 176s 335ms/step - loss: 1.1432 - accuracy: 0.5468\n",
            "Epoch 44/100\n",
            "527/527 [==============================] - 176s 333ms/step - loss: 1.1364 - accuracy: 0.5555\n",
            "Epoch 45/100\n",
            "527/527 [==============================] - 176s 335ms/step - loss: 1.1360 - accuracy: 0.5542\n",
            "Epoch 46/100\n",
            "527/527 [==============================] - 176s 334ms/step - loss: 1.1348 - accuracy: 0.5531\n",
            "Epoch 47/100\n",
            "527/527 [==============================] - 175s 333ms/step - loss: 1.1240 - accuracy: 0.5565\n",
            "Epoch 48/100\n",
            "527/527 [==============================] - 176s 335ms/step - loss: 1.1357 - accuracy: 0.5500\n",
            "Epoch 49/100\n",
            "527/527 [==============================] - 177s 336ms/step - loss: 1.1422 - accuracy: 0.5480\n",
            "Epoch 50/100\n",
            "527/527 [==============================] - 176s 335ms/step - loss: 1.1217 - accuracy: 0.5573\n",
            "Epoch 51/100\n",
            "527/527 [==============================] - 177s 335ms/step - loss: 1.1432 - accuracy: 0.5459\n",
            "Epoch 52/100\n",
            "527/527 [==============================] - 177s 336ms/step - loss: 1.1274 - accuracy: 0.5587\n",
            "Epoch 53/100\n",
            "527/527 [==============================] - 176s 334ms/step - loss: 1.1394 - accuracy: 0.5494\n",
            "Epoch 54/100\n",
            "527/527 [==============================] - 176s 335ms/step - loss: 1.1288 - accuracy: 0.5556\n",
            "Epoch 55/100\n",
            "527/527 [==============================] - 176s 335ms/step - loss: 1.1295 - accuracy: 0.5527\n",
            "Epoch 56/100\n",
            "527/527 [==============================] - 176s 334ms/step - loss: 1.1210 - accuracy: 0.5589\n",
            "Epoch 57/100\n",
            "527/527 [==============================] - 177s 336ms/step - loss: 1.1245 - accuracy: 0.5559\n",
            "Epoch 58/100\n",
            "527/527 [==============================] - 177s 336ms/step - loss: 1.1158 - accuracy: 0.5573\n",
            "Epoch 59/100\n",
            "527/527 [==============================] - 176s 334ms/step - loss: 1.1093 - accuracy: 0.5619\n",
            "Epoch 60/100\n",
            "527/527 [==============================] - 177s 335ms/step - loss: 1.1244 - accuracy: 0.5547\n",
            "Epoch 61/100\n",
            "527/527 [==============================] - 176s 335ms/step - loss: 1.1211 - accuracy: 0.5557\n",
            "Epoch 62/100\n",
            "527/527 [==============================] - 176s 335ms/step - loss: 1.1215 - accuracy: 0.5589\n",
            "Epoch 63/100\n",
            "527/527 [==============================] - 177s 336ms/step - loss: 1.1195 - accuracy: 0.5582\n",
            "Epoch 64/100\n",
            "527/527 [==============================] - 177s 336ms/step - loss: 1.1090 - accuracy: 0.5620\n",
            "Epoch 65/100\n",
            "527/527 [==============================] - 176s 334ms/step - loss: 1.1183 - accuracy: 0.5591\n",
            "Epoch 66/100\n",
            "527/527 [==============================] - 177s 336ms/step - loss: 1.1210 - accuracy: 0.5563\n",
            "Epoch 67/100\n",
            "527/527 [==============================] - 176s 334ms/step - loss: 1.1156 - accuracy: 0.5573\n",
            "Epoch 68/100\n",
            "527/527 [==============================] - 176s 335ms/step - loss: 1.1094 - accuracy: 0.5639\n",
            "Epoch 69/100\n",
            "527/527 [==============================] - 176s 334ms/step - loss: 1.1044 - accuracy: 0.5690\n",
            "Epoch 70/100\n",
            "527/527 [==============================] - 176s 334ms/step - loss: 1.1038 - accuracy: 0.5680\n",
            "Epoch 71/100\n",
            "527/527 [==============================] - 176s 334ms/step - loss: 1.1133 - accuracy: 0.5594\n",
            "Epoch 72/100\n",
            "527/527 [==============================] - 176s 335ms/step - loss: 1.1128 - accuracy: 0.5630\n",
            "Epoch 73/100\n",
            "527/527 [==============================] - 176s 334ms/step - loss: 1.1073 - accuracy: 0.5619\n",
            "Epoch 74/100\n",
            "527/527 [==============================] - 176s 334ms/step - loss: 1.1048 - accuracy: 0.5662\n",
            "Epoch 75/100\n",
            "527/527 [==============================] - 176s 334ms/step - loss: 1.1114 - accuracy: 0.5594\n",
            "Epoch 76/100\n",
            "527/527 [==============================] - 176s 335ms/step - loss: 1.0935 - accuracy: 0.5708\n",
            "Epoch 77/100\n",
            "527/527 [==============================] - 176s 334ms/step - loss: 1.1029 - accuracy: 0.5644\n",
            "Epoch 78/100\n",
            "527/527 [==============================] - 177s 336ms/step - loss: 1.0965 - accuracy: 0.5677\n",
            "Epoch 79/100\n",
            "527/527 [==============================] - 176s 333ms/step - loss: 1.0961 - accuracy: 0.5670\n",
            "Epoch 80/100\n",
            "527/527 [==============================] - 176s 335ms/step - loss: 1.0973 - accuracy: 0.5665\n",
            "Epoch 81/100\n",
            "527/527 [==============================] - 177s 335ms/step - loss: 1.0985 - accuracy: 0.5687\n",
            "Epoch 82/100\n",
            "527/527 [==============================] - 176s 335ms/step - loss: 1.0995 - accuracy: 0.5684\n",
            "Epoch 83/100\n",
            "527/527 [==============================] - 176s 335ms/step - loss: 1.0978 - accuracy: 0.5685\n",
            "Epoch 84/100\n",
            "527/527 [==============================] - 177s 335ms/step - loss: 1.0957 - accuracy: 0.5680\n",
            "Epoch 85/100\n",
            "527/527 [==============================] - 176s 334ms/step - loss: 1.0873 - accuracy: 0.5750\n",
            "Epoch 86/100\n",
            "527/527 [==============================] - 177s 336ms/step - loss: 1.0925 - accuracy: 0.5699\n",
            "Epoch 87/100\n",
            "527/527 [==============================] - 177s 335ms/step - loss: 1.0970 - accuracy: 0.5680\n",
            "Epoch 88/100\n",
            "527/527 [==============================] - 177s 336ms/step - loss: 1.0911 - accuracy: 0.5725\n",
            "Epoch 89/100\n",
            "527/527 [==============================] - 176s 334ms/step - loss: 1.0861 - accuracy: 0.5753\n",
            "Epoch 90/100\n",
            "527/527 [==============================] - 177s 335ms/step - loss: 1.0802 - accuracy: 0.5761\n",
            "Epoch 91/100\n",
            "527/527 [==============================] - 176s 334ms/step - loss: 1.0749 - accuracy: 0.5811\n",
            "Epoch 92/100\n",
            "527/527 [==============================] - 177s 336ms/step - loss: 1.0843 - accuracy: 0.5729\n",
            "Epoch 93/100\n",
            "527/527 [==============================] - 177s 336ms/step - loss: 1.0769 - accuracy: 0.5729\n",
            "Epoch 94/100\n",
            "527/527 [==============================] - 177s 336ms/step - loss: 1.0728 - accuracy: 0.5745\n",
            "Epoch 95/100\n",
            "527/527 [==============================] - 177s 336ms/step - loss: 1.0737 - accuracy: 0.5801\n",
            "Epoch 96/100\n",
            "527/527 [==============================] - 177s 336ms/step - loss: 1.0697 - accuracy: 0.5749\n",
            "Epoch 97/100\n",
            "527/527 [==============================] - 177s 335ms/step - loss: 1.0695 - accuracy: 0.5834\n",
            "Epoch 98/100\n",
            "527/527 [==============================] - 177s 336ms/step - loss: 1.0791 - accuracy: 0.5750\n",
            "Epoch 99/100\n",
            "527/527 [==============================] - 177s 335ms/step - loss: 1.0671 - accuracy: 0.5759\n",
            "Epoch 100/100\n",
            "527/527 [==============================] - 176s 335ms/step - loss: 1.0645 - accuracy: 0.5764\n"
          ]
        },
        {
          "output_type": "execute_result",
          "data": {
            "text/plain": [
              "<keras.callbacks.History at 0x7fbe8e0db880>"
            ]
          },
          "metadata": {},
          "execution_count": 31
        }
      ],
      "source": [
        "model.fit(X_train, y_train, epochs=100)"
      ]
    },
    {
      "cell_type": "code",
      "source": [
        "# Save the model to a TensorFlow SavedModel directory\n",
        "\n",
        "model.save('/content/drive/MyDrive/NLP Project/2ndbert_model', save_format='tf')"
      ],
      "metadata": {
        "colab": {
          "base_uri": "https://localhost:8080/"
        },
        "id": "XFGikPBeq8GU",
        "outputId": "3c3b5aed-0751-4c94-caa1-39ffcc643525"
      },
      "execution_count": 39,
      "outputs": [
        {
          "output_type": "stream",
          "name": "stderr",
          "text": [
            "WARNING:absl:Found untraced functions such as restored_function_body, restored_function_body, restored_function_body, restored_function_body, restored_function_body while saving (showing 5 of 366). These functions will not be directly callable after loading.\n"
          ]
        }
      ]
    },
    {
      "cell_type": "code",
      "source": [
        "from tensorflow.keras.models import load_model\n",
        "\n",
        "\n",
        "# Load the model from a TensorFlow SavedModel directory\n",
        "model = load_model('/content/drive/MyDrive/NLP Project/2ndbert_model')"
      ],
      "metadata": {
        "id": "pOYjxhWoru57"
      },
      "execution_count": 40,
      "outputs": []
    },
    {
      "cell_type": "code",
      "source": [
        "predictions = model.predict(X_test)"
      ],
      "metadata": {
        "colab": {
          "base_uri": "https://localhost:8080/"
        },
        "id": "zXBeSHqDZPSs",
        "outputId": "ea11147d-1999-4208-82b0-e5edf08179ed"
      },
      "execution_count": 41,
      "outputs": [
        {
          "output_type": "stream",
          "name": "stdout",
          "text": [
            "132/132 [==============================] - 42s 316ms/step\n"
          ]
        }
      ]
    },
    {
      "cell_type": "code",
      "source": [
        "loss, accuracy = model.evaluate(X_test, y_test)"
      ],
      "metadata": {
        "colab": {
          "base_uri": "https://localhost:8080/"
        },
        "id": "KA0EXWDFviGk",
        "outputId": "ff41f525-4000-40fc-de74-65dfcea12801"
      },
      "execution_count": 42,
      "outputs": [
        {
          "output_type": "stream",
          "name": "stdout",
          "text": [
            "132/132 [==============================] - 42s 315ms/step - loss: 1.1528 - accuracy: 0.5354\n"
          ]
        }
      ]
    },
    {
      "cell_type": "code",
      "source": [
        "print('Test loss:', loss)\n",
        "print('Test accuracy:', accuracy)"
      ],
      "metadata": {
        "colab": {
          "base_uri": "https://localhost:8080/"
        },
        "id": "JPwEaB_TviLO",
        "outputId": "dfda39cb-f6df-4df8-d06f-adbf90342357"
      },
      "execution_count": 43,
      "outputs": [
        {
          "output_type": "stream",
          "name": "stdout",
          "text": [
            "Test loss: 1.1527869701385498\n",
            "Test accuracy: 0.5353583097457886\n"
          ]
        }
      ]
    },
    {
      "cell_type": "code",
      "source": [
        "max_value = []\n",
        "tup_class = []\n",
        "final_class = []\n",
        "l = len(predictions)\n",
        "\n",
        "for i in range(0,l):\n",
        "    max_value.append(np.amax(predictions[i]))\n",
        "    tup_class.append(np.where(predictions[i] == max_value[i]))\n",
        "    final_class = np.ravel(tup_class)\n"
      ],
      "metadata": {
        "id": "XhIbwMUofFUx"
      },
      "execution_count": 44,
      "outputs": []
    },
    {
      "cell_type": "code",
      "source": [
        "predictions[0:10]"
      ],
      "metadata": {
        "colab": {
          "base_uri": "https://localhost:8080/"
        },
        "id": "a7TmoC3ihPsh",
        "outputId": "e63fc036-d6c3-48fa-afdc-70f44aef7fa9"
      },
      "execution_count": 45,
      "outputs": [
        {
          "output_type": "execute_result",
          "data": {
            "text/plain": [
              "array([[0.11010696, 0.08944708, 0.10647421, 0.66989267, 0.02407907],\n",
              "       [0.1050943 , 0.07497458, 0.13180064, 0.6478173 , 0.0403131 ],\n",
              "       [0.02682179, 0.05256001, 0.24359578, 0.03129213, 0.64573026],\n",
              "       [0.00601418, 0.01351815, 0.1451663 , 0.00598106, 0.8293203 ],\n",
              "       [0.00608894, 0.01172153, 0.12185199, 0.00468861, 0.855649  ],\n",
              "       [0.61930853, 0.02598273, 0.03970695, 0.29288197, 0.02211981],\n",
              "       [0.23239915, 0.10942592, 0.08483634, 0.5532851 , 0.02005346],\n",
              "       [0.8242428 , 0.01446834, 0.0161958 , 0.1371844 , 0.00790877],\n",
              "       [0.11142784, 0.10118054, 0.0912611 , 0.67836624, 0.01776421],\n",
              "       [0.08765429, 0.04896993, 0.08351336, 0.75654095, 0.02332148]],\n",
              "      dtype=float32)"
            ]
          },
          "metadata": {},
          "execution_count": 45
        }
      ]
    },
    {
      "cell_type": "code",
      "source": [
        "final_class[0:10]"
      ],
      "metadata": {
        "colab": {
          "base_uri": "https://localhost:8080/"
        },
        "id": "1u8_Czk8sWpY",
        "outputId": "757ae2a4-54ba-4cc0-fb9e-34d5b631d1d9"
      },
      "execution_count": 46,
      "outputs": [
        {
          "output_type": "execute_result",
          "data": {
            "text/plain": [
              "array([3, 3, 4, 4, 4, 0, 3, 0, 3, 3])"
            ]
          },
          "metadata": {},
          "execution_count": 46
        }
      ]
    },
    {
      "cell_type": "code",
      "source": [
        "y_test[0:10]"
      ],
      "metadata": {
        "colab": {
          "base_uri": "https://localhost:8080/"
        },
        "id": "u_ulCjevlrH7",
        "outputId": "0ac5ed2d-36a7-4438-88db-b963c786fd0d"
      },
      "execution_count": 47,
      "outputs": [
        {
          "output_type": "execute_result",
          "data": {
            "text/plain": [
              "53       0\n",
              "4271     2\n",
              "12923    4\n",
              "11650    4\n",
              "17124    4\n",
              "4986     0\n",
              "8901     0\n",
              "14633    0\n",
              "14005    1\n",
              "2217     3\n",
              "Name: Topic_ID, dtype: int64"
            ]
          },
          "metadata": {},
          "execution_count": 47
        }
      ]
    },
    {
      "cell_type": "code",
      "source": [
        "y_test.value_counts()"
      ],
      "metadata": {
        "colab": {
          "base_uri": "https://localhost:8080/"
        },
        "id": "eGtUnFEBz-9N",
        "outputId": "38f9a137-0c4d-4a77-a924-511fcd85b08f"
      },
      "execution_count": 48,
      "outputs": [
        {
          "output_type": "execute_result",
          "data": {
            "text/plain": [
              "0    1059\n",
              "3     971\n",
              "1     960\n",
              "4     777\n",
              "2     447\n",
              "Name: Topic_ID, dtype: int64"
            ]
          },
          "metadata": {},
          "execution_count": 48
        }
      ]
    },
    {
      "cell_type": "code",
      "source": [
        "from sklearn.metrics import confusion_matrix"
      ],
      "metadata": {
        "id": "qGK3eLVx9qa5"
      },
      "execution_count": 49,
      "outputs": []
    },
    {
      "cell_type": "code",
      "source": [
        "confusion_matrix = confusion_matrix(y_test, final_class)\n",
        "\n",
        "print(confusion_matrix)\n"
      ],
      "metadata": {
        "colab": {
          "base_uri": "https://localhost:8080/"
        },
        "id": "y62ZOeWl-Ode",
        "outputId": "3f2de504-b8a8-4749-d9c7-f350256388ee"
      },
      "execution_count": 50,
      "outputs": [
        {
          "output_type": "stream",
          "name": "stdout",
          "text": [
            "[[689   2   3 340  25]\n",
            " [ 58 104  41 728  29]\n",
            " [ 35   2  53 293  64]\n",
            " [ 51   4  12 897   7]\n",
            " [ 50  11  70 133 513]]\n"
          ]
        }
      ]
    },
    {
      "cell_type": "code",
      "source": [
        "from matplotlib import pyplot as plt\n",
        "import seaborn as sn\n",
        "sn.heatmap(confusion_matrix, annot=True, fmt='d')\n",
        "plt.xlabel('Predicted')\n",
        "plt.ylabel('Truth')"
      ],
      "metadata": {
        "colab": {
          "base_uri": "https://localhost:8080/",
          "height": 296
        },
        "id": "R8e9TbjX-OgF",
        "outputId": "58595991-0286-4032-8aec-209fccb99100"
      },
      "execution_count": 51,
      "outputs": [
        {
          "output_type": "execute_result",
          "data": {
            "text/plain": [
              "Text(33.0, 0.5, 'Truth')"
            ]
          },
          "metadata": {},
          "execution_count": 51
        },
        {
          "output_type": "display_data",
          "data": {
            "text/plain": [
              "<Figure size 432x288 with 2 Axes>"
            ],
            "image/png": "[encoded data removed]"
          },
          "metadata": {
            "needs_background": "light"
          }
        }
      ]
    },
    {
      "cell_type": "code",
      "source": [],
      "metadata": {
        "id": "A9jAdbFYtI6V"
      },
      "execution_count": null,
      "outputs": []
    }
  ],
  "metadata": {
    "colab": {
      "provenance": []
    },
    "kernelspec": {
      "display_name": "Python 3",
      "name": "python3"
    },
    "language_info": {
      "name": "python"
    },
    "accelerator": "GPU",
    "gpuClass": "standard"
  },
  "nbformat": 4,
  "nbformat_minor": 0
}